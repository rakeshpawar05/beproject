{
 "cells": [
  {
   "cell_type": "code",
   "execution_count": 1,
   "metadata": {},
   "outputs": [],
   "source": [
    "import numpy as np\n",
    "import parser as psr\n",
    "import model as m"
   ]
  },
  {
   "cell_type": "code",
   "execution_count": 2,
   "metadata": {},
   "outputs": [
    {
     "name": "stdout",
     "output_type": "stream",
     "text": [
      "Number of samples: 5280\n",
      "Number of unique input tokens: 25\n",
      "Number of unique output tokens: 39\n",
      "Max sequence length for inputs: 16\n",
      "Max sequence length for outputs: 27\n"
     ]
    }
   ],
   "source": [
    "lines = psr.parse_xml(\"modexample.xml\")\n",
    "model = m.Model()\n",
    "model.build(lines)"
   ]
  },
  {
   "cell_type": "code",
   "execution_count": 12,
   "metadata": {},
   "outputs": [
    {
     "name": "stdout",
     "output_type": "stream",
     "text": [
      "Train on 5280 samples\n",
      "Epoch 1/10\n",
      "5280/5280 [==============================] - 5s 1ms/sample - loss: 0.0371 - accuracy: 0.9981\n",
      "Epoch 2/10\n",
      "5280/5280 [==============================] - 4s 742us/sample - loss: 0.0317 - accuracy: 0.9983\n",
      "Epoch 3/10\n",
      "5280/5280 [==============================] - 4s 753us/sample - loss: 0.0272 - accuracy: 0.9987\n",
      "Epoch 4/10\n",
      "5280/5280 [==============================] - 4s 758us/sample - loss: 0.0235 - accuracy: 0.9991\n",
      "Epoch 5/10\n",
      "5280/5280 [==============================] - 4s 758us/sample - loss: 0.0206 - accuracy: 0.9992\n",
      "Epoch 6/10\n",
      "5280/5280 [==============================] - 4s 759us/sample - loss: 0.0182 - accuracy: 0.9993\n",
      "Epoch 7/10\n",
      "5280/5280 [==============================] - 4s 775us/sample - loss: 0.0162 - accuracy: 0.9997\n",
      "Epoch 8/10\n",
      "5280/5280 [==============================] - 4s 775us/sample - loss: 0.0144 - accuracy: 1.0000\n",
      "Epoch 9/10\n",
      "5280/5280 [==============================] - 4s 769us/sample - loss: 0.0129 - accuracy: 1.0000\n",
      "Epoch 10/10\n",
      "5280/5280 [==============================] - 4s 772us/sample - loss: 0.0116 - accuracy: 1.0000\n"
     ]
    }
   ],
   "source": [
    "model.train(10)"
   ]
  },
  {
   "cell_type": "code",
   "execution_count": 13,
   "metadata": {
    "scrolled": true
   },
   "outputs": [],
   "source": [
    "model.save(1)"
   ]
  },
  {
   "cell_type": "code",
   "execution_count": 14,
   "metadata": {},
   "outputs": [
    {
     "name": "stdout",
     "output_type": "stream",
     "text": [
      "<div> <var name = \" a \" /> <var name = \" b \" /> </div> \n",
      "<?xml version=\"1.0\" ?>\n",
      "<div>\n",
      "\t \n",
      "\t<var name=\" a \"/>\n",
      "\t \n",
      "\t<var name=\" b \"/>\n",
      "\t \n",
      "</div>\n",
      "\n",
      "<var name=\"1\"/>\n"
     ]
    }
   ],
   "source": [
    "model.load(1)\n",
    "import xml.dom.minidom\n",
    "print(model.predict(\"div a and b\"))\n",
    "dom = xml.dom.minidom.parseString(model.predict(\"div a and b\")) # or xml.dom.minidom.parseString(xml_string)\n",
    "pretty_xml_as_string = dom.toprettyxml()\n",
    "print(pretty_xml_as_string)\n",
    "\n",
    "text = \"<var name=\\\" _1_ \\\"/>\"\n",
    "import re\n",
    "print(re.sub('\\\"\\s_'+str(int(1))+'_\\s\\\"','\\\"'+str(int(1))+'\\\"',text))"
   ]
  },
  {
   "cell_type": "code",
   "execution_count": 15,
   "metadata": {},
   "outputs": [],
   "source": [
    "from model import Model\n",
    "import xml.etree.ElementTree as ET\n",
    "\n",
    "\n",
    "model = Model()\n",
    "model.load(1)"
   ]
  },
  {
   "cell_type": "code",
   "execution_count": 16,
   "metadata": {},
   "outputs": [
    {
     "name": "stdout",
     "output_type": "stream",
     "text": [
      " a + b \n",
      " c = m + n \n"
     ]
    }
   ],
   "source": [
    "import re\n",
    "langdict = model.l.langdict\n",
    "code = \"add a and b\\nset c to addition of m and n\"\n",
    "xmlstr = \"\"\n",
    "for line in code.split('\\n'):\n",
    "    xmlstr+=model.predict(line)\n",
    "xmlstr = \"<code>\"+xmlstr+\"</code>\"\n",
    "root = ET.fromstring(xmlstr)\n",
    "\n",
    "def resolve_tag(o):\n",
    "    line = \"\"\n",
    "    if o.tag in lang.keys():\n",
    "        for w in lang[o.tag].split():\n",
    "            if \"_\" in w:\n",
    "                if w[1:-1].isnumeric():\n",
    "                    idx = int(w[1:-1])-1\n",
    "                    #print(o[idx].tag)\n",
    "                    line += resolve_tag(o[idx])+\" \"\n",
    "                elif \"_attrib\" in w:\n",
    "                    line += o.get(w[8:-1])+\" \"\n",
    "            else:\n",
    "                line += w + \" \"\n",
    "    return re.sub(\"\\s\\s+\",\" \",line)\n",
    "\n",
    "lang = langdict['python']\n",
    "for o in root:\n",
    "    print(resolve_tag(o))\n",
    "        "
   ]
  },
  {
   "cell_type": "code",
   "execution_count": null,
   "metadata": {},
   "outputs": [],
   "source": []
  },
  {
   "cell_type": "code",
   "execution_count": null,
   "metadata": {},
   "outputs": [],
   "source": []
  }
 ],
 "metadata": {
  "kernelspec": {
   "display_name": "Python 3",
   "language": "python",
   "name": "python3"
  },
  "language_info": {
   "codemirror_mode": {
    "name": "ipython",
    "version": 3
   },
   "file_extension": ".py",
   "mimetype": "text/x-python",
   "name": "python",
   "nbconvert_exporter": "python",
   "pygments_lexer": "ipython3",
   "version": "3.8.2"
  }
 },
 "nbformat": 4,
 "nbformat_minor": 2
}
