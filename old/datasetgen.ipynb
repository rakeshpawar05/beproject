{
 "cells": [
  {
   "cell_type": "code",
   "execution_count": 2,
   "metadata": {},
   "outputs": [],
   "source": [
    "import string\n",
    "import random"
   ]
  },
  {
   "cell_type": "code",
   "execution_count": 3,
   "metadata": {},
   "outputs": [],
   "source": [
    "def gen_def():\n",
    "    lines = []\n",
    "    keywords = [\"define\",\"declare\"]\n",
    "    datatypes = [\"\",\"integer\",\"float\",\"string\"]\n",
    "    datatypesIL = [\"\",\"int\",\"flt\",\"str\"]\n",
    "    for i in range(0,2):\n",
    "        for j in range(0,2):\n",
    "            for v in range(1,6):\n",
    "                line = keywords[j] + \" \"\n",
    "                tab = \"\\t\"\n",
    "                a = 1\n",
    "                for vv in range(0,v):\n",
    "                    line += datatypes[i]+\" <unk> \"\n",
    "                    a += 1\n",
    "                    if i>0:\n",
    "                        a += 1\n",
    "                    b = a\n",
    "#                     if vv != v-1:\n",
    "#                         line+= \", \"\n",
    "#                         a +=1\n",
    "                    tab += \"def \"+datatypesIL[i]+\" \"+str(b)+\" \"\n",
    "                lines.append(line+tab)\n",
    "    return lines"
   ]
  },
  {
   "cell_type": "code",
   "execution_count": 4,
   "metadata": {},
   "outputs": [],
   "source": [
    "ops = {\n",
    "        \"add\" : [\n",
    "            \"add\",\n",
    "            \"addition of\",\n",
    "            \"sum of\"\n",
    "        ],\n",
    "        \"sub\" : [\n",
    "            \"subtract\",\n",
    "            \"substract\",\n",
    "            \"subtraction of\",\n",
    "            \"substraction of\",\n",
    "            \"difference of\"\n",
    "        ],\n",
    "        \"mul\" : [\n",
    "            \"multiply\",\n",
    "            \"multiplication of\",\n",
    "            \"product of\"\n",
    "        ],\n",
    "        \"div\" : [\n",
    "            \"divide\",\n",
    "            \"division of\"\n",
    "        ]\n",
    "    }\n",
    "and_phrase = \"<unk> and <unk>\"\n",
    "def gen_op():\n",
    "    lines = []\n",
    "    for k in ops.keys():\n",
    "        for o in ops[k]:\n",
    "            line = o+\" \"+and_phrase\n",
    "            b = len(o.split())\n",
    "            tab = \"\\t\"+k+\" \"+str(b+1)+\" \"+str(b+3)\n",
    "            lines.append(line+tab)\n",
    "    return lines"
   ]
  },
  {
   "cell_type": "code",
   "execution_count": 5,
   "metadata": {},
   "outputs": [],
   "source": [
    "def gen_op_equ():\n",
    "    lines = []\n",
    "    post = [\n",
    "        \"store in <unk>\",\n",
    "        \"store the result in <unk>\",\n",
    "        \"store the value in <unk>\",\n",
    "        \"then store the value in <unk>\",\n",
    "        \"and then store the value in <unk>\",\n",
    "        \"and store the value in <unk>\"\n",
    "    ]\n",
    "    pre = [\n",
    "        \"initialize <unk> with\",\n",
    "        \"set <unk> to\"\n",
    "    ]\n",
    "    for k in ops.keys():\n",
    "        for o in ops[k]:\n",
    "            for p in post:\n",
    "                line = o+\" \"+and_phrase+\" \"+p\n",
    "                b = len(o.split())\n",
    "                tab = \"\\t\"+k+\" \"+str(b+1)+\" \"+str(b+3)+\" equ \"+str(b+3+len(p.split()))\n",
    "                lines.append(line+tab)\n",
    "    for k in ops.keys():\n",
    "        for o in ops[k]:\n",
    "            for p in pre:\n",
    "                line = p+\" \"+o+\" \"+and_phrase\n",
    "                b = len(o.split())+len(p.split())\n",
    "                tab = \"\\t\"+k+\" \"+str(b+1)+\" \"+str(b+3)+\" equ \"+str(2)\n",
    "                lines.append(line+tab)\n",
    "    return lines"
   ]
  },
  {
   "cell_type": "code",
   "execution_count": 6,
   "metadata": {},
   "outputs": [],
   "source": [
    "def get_dataset():\n",
    "    return gen_def()+gen_op()+gen_op_equ()+gen_def()+gen_op()+gen_op_equ()+gen_def()+gen_op()+gen_op_equ()"
   ]
  },
  {
   "cell_type": "code",
   "execution_count": 7,
   "metadata": {},
   "outputs": [],
   "source": [
    "with open(\"test1.dataset\",\"w\") as f:\n",
    "    for l in get_dataset():\n",
    "        f.write(l)"
   ]
  },
  {
   "cell_type": "code",
   "execution_count": null,
   "metadata": {},
   "outputs": [],
   "source": []
  }
 ],
 "metadata": {
  "kernelspec": {
   "display_name": "Python 3",
   "language": "python",
   "name": "python3"
  },
  "language_info": {
   "codemirror_mode": {
    "name": "ipython",
    "version": 3
   },
   "file_extension": ".py",
   "mimetype": "text/x-python",
   "name": "python",
   "nbconvert_exporter": "python",
   "pygments_lexer": "ipython3",
   "version": "3.8.1"
  }
 },
 "nbformat": 4,
 "nbformat_minor": 2
}
