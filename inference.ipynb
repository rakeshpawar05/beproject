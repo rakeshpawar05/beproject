{
 "cells": [
  {
   "cell_type": "code",
   "execution_count": 1,
   "metadata": {},
   "outputs": [],
   "source": [
    "from tensorflow.keras import models\n",
    "import numpy as np\n",
    "import pickle"
   ]
  },
  {
   "cell_type": "code",
   "execution_count": 2,
   "metadata": {},
   "outputs": [],
   "source": [
    "model = models.load_model(\"model.h5\")\n",
    "with open(\"dicts.tuple\",\"rb\") as fb:\n",
    "    input_token_index,target_token_index,max_encoder_seq_length,num_encoder_tokens = pickle.load(fb)\n",
    "\n",
    "reverse_input_char_index = dict(\n",
    "    (i, char) for char, i in input_token_index.items())\n",
    "reverse_target_char_index = dict(\n",
    "    (i, char) for char, i in target_token_index.items())\n"
   ]
  },
  {
   "cell_type": "code",
   "execution_count": 3,
   "metadata": {},
   "outputs": [],
   "source": [
    "def encode_input(input_text):  \n",
    "    encoder_input_data = np.zeros(\n",
    "        (1, max_encoder_seq_length, num_encoder_tokens),\n",
    "        dtype='float32')\n",
    "    for t, char in enumerate(input_text.split()):\n",
    "        if char in input_token_index.keys():\n",
    "            encoder_input_data[0, t, input_token_index[char]] = 1.\n",
    "        else:\n",
    "            encoder_input_data[0, t, input_token_index[\"<unk>\"]] = 1.\n",
    "    encoder_input_data[0, t + 1:, input_token_index['<end>']] = 1.\n",
    "    return encoder_input_data\n",
    "\n",
    "def predict(line):\n",
    "    s = line\n",
    "    e = encode_input(s)\n",
    "    prediction = model.predict(e)\n",
    "    ans = \"\"\n",
    "    for p in prediction[0]:\n",
    "        out = reverse_target_char_index[np.argmax(p)]\n",
    "        if out != \"<end>\" and out != \"<start>\":\n",
    "            if out.isnumeric():\n",
    "                ans += s.split()[int(out,base=10)-1]+\" \"\n",
    "            else:\n",
    "                ans += str(out)+\" \"\n",
    "    return ans.strip()"
   ]
  },
  {
   "cell_type": "code",
   "execution_count": 5,
   "metadata": {},
   "outputs": [
    {
     "name": "stdout",
     "output_type": "stream",
     "text": [
      "assign a <exp>1\n",
      "assign b <exp>2\n",
      "if greater a b do\n",
      "sub a b equ c\n",
      "endif\n"
     ]
    }
   ],
   "source": [
    "code = [\n",
    "    \"let a to one\",\n",
    "    \"initialize b to two\",\n",
    "    \"if a is greater than b\",\n",
    "    \"set c to addition of a and b\",\n",
    "    \"end if\"\n",
    "]\n",
    "for c in code:\n",
    "    print(predict(c))"
   ]
  },
  {
   "cell_type": "code",
   "execution_count": null,
   "metadata": {},
   "outputs": [],
   "source": []
  }
 ],
 "metadata": {
  "kernelspec": {
   "display_name": "Python 3",
   "language": "python",
   "name": "python3"
  },
  "language_info": {
   "codemirror_mode": {
    "name": "ipython",
    "version": 3
   },
   "file_extension": ".py",
   "mimetype": "text/x-python",
   "name": "python",
   "nbconvert_exporter": "python",
   "pygments_lexer": "ipython3",
   "version": "3.8.2"
  }
 },
 "nbformat": 4,
 "nbformat_minor": 2
}
