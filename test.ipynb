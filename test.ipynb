{
 "cells": [
  {
   "cell_type": "code",
   "execution_count": 6,
   "metadata": {},
   "outputs": [],
   "source": [
    "import xml.etree.ElementTree as ET\n"
   ]
  },
  {
   "cell_type": "code",
   "execution_count": 11,
   "metadata": {},
   "outputs": [
    {
     "name": "stdout",
     "output_type": "stream",
     "text": "-> program \n    -> def \n        -> name a\n        -> type int\n    -> op =\n        -> var a\n        -> exp 1\n    -> op =\n        -> var c\n        -> op +\n            -> var a\n            -> var b\n"
    }
   ],
   "source": [
    "tree = ET.parse('sample.xml')\n",
    "root = tree.getroot()\n",
    "\n",
    "def tprint(obj,indent=\"->\"):\n",
    "    if obj.tag.strip() == \"op\":\n",
    "        print(indent,obj.tag,obj.get(\"sign\").strip())\n",
    "    else:\n",
    "        print(indent,obj.tag,obj.text.strip())\n",
    "    for o in obj:\n",
    "        tprint(o,\"    \"+indent)\n",
    "\n",
    "tprint(root)"
   ]
  },
  {
   "cell_type": "code",
   "execution_count": null,
   "metadata": {},
   "outputs": [],
   "source": []
  }
 ],
 "metadata": {
  "kernelspec": {
   "display_name": "Python 3",
   "language": "python",
   "name": "python3"
  },
  "language_info": {
   "codemirror_mode": {
    "name": "ipython",
    "version": 3
   },
   "file_extension": ".py",
   "mimetype": "text/x-python",
   "name": "python",
   "nbconvert_exporter": "python",
   "pygments_lexer": "ipython3",
   "version": "3.8.1-final"
  }
 },
 "nbformat": 4,
 "nbformat_minor": 2
}