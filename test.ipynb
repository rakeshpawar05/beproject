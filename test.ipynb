{
 "cells": [
  {
   "cell_type": "code",
   "execution_count": 21,
   "metadata": {},
   "outputs": [],
   "source": [
    "import xml.etree.ElementTree as ET\n"
   ]
  },
  {
   "cell_type": "code",
   "execution_count": 37,
   "metadata": {},
   "outputs": [
    {
     "name": "stdout",
     "output_type": "stream",
     "text": [
      "-> program \n",
      "    -> define \n",
      "        -> name a\n",
      "        -> type int\n",
      "    -> equals \n",
      "        -> var a\n",
      "        -> exp 1\n",
      "    -> equals \n",
      "        -> var b\n",
      "        -> exp 1\n",
      "    -> equals \n",
      "        -> var c\n",
      "        -> exp \n",
      "            -> add \n",
      "                -> var a\n",
      "                -> var b\n",
      "    -> if \n",
      "        -> exp \n",
      "            -> greater \n",
      "                -> var a\n",
      "                -> var b\n",
      "        -> block \n",
      "            -> print \n",
      "                -> var c\n"
     ]
    }
   ],
   "source": [
    "tree = ET.parse('sample.xml')\n",
    "root = tree.getroot()\n",
    "\n",
    "def tprint(obj,indent=\"->\"):\n",
    "    print(indent,obj.tag,obj.text.strip())\n",
    "    for o in obj:\n",
    "        tprint(o,\"    \"+indent)\n",
    "\n",
    "tprint(root)"
   ]
  },
  {
   "cell_type": "code",
   "execution_count": null,
   "metadata": {},
   "outputs": [],
   "source": []
  }
 ],
 "metadata": {
  "kernelspec": {
   "display_name": "Python 3",
   "language": "python",
   "name": "python3"
  },
  "language_info": {
   "codemirror_mode": {
    "name": "ipython",
    "version": 3
   },
   "file_extension": ".py",
   "mimetype": "text/x-python",
   "name": "python",
   "nbconvert_exporter": "python",
   "pygments_lexer": "ipython3",
   "version": "3.8.1"
  }
 },
 "nbformat": 4,
 "nbformat_minor": 2
}
