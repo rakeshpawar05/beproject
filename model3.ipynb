{
 "cells": [
  {
   "cell_type": "code",
   "execution_count": 1,
   "metadata": {},
   "outputs": [],
   "source": [
    "import tensorflow as tf\n",
    "from tensorflow import keras\n",
    "from tensorflow.keras import Model,layers,losses\n",
    "import numpy as np"
   ]
  },
  {
   "cell_type": "code",
   "execution_count": 2,
   "metadata": {},
   "outputs": [],
   "source": [
    "from datagen import *\n",
    "dataset = get_dataset()"
   ]
  },
  {
   "cell_type": "code",
   "execution_count": 3,
   "metadata": {},
   "outputs": [
    {
     "name": "stdout",
     "output_type": "stream",
     "text": [
      "Number of samples: 17925\n",
      "Number of unique input tokens: 50\n",
      "Number of unique output tokens: 38\n",
      "Max sequence length for inputs: 17\n",
      "Max sequence length for outputs: 8\n"
     ]
    }
   ],
   "source": [
    "input_texts = []\n",
    "target_texts = []\n",
    "input_characters = set([\"<end>\",\"<unk>\"])\n",
    "target_characters = set([\"<start>\",\"<end>\",\"1\",\"2\",\"3\",\"4\",\"5\",\"6\",\"7\",\"8\",\"9\",\"10\"])\n",
    "for line in dataset:\n",
    "    input_text, target_text = line.split('\\t')\n",
    "    # We use \"tab\" as the \"start sequence\" character\n",
    "    # for the targets, and \"\\n\" as \"end sequence\" character.\n",
    "    target_text = '<start> ' + target_text + ' <end>'\n",
    "    input_texts.append(input_text)\n",
    "    target_texts.append(target_text)\n",
    "    for char in input_text.split():\n",
    "        if char not in input_characters:\n",
    "            input_characters.add(char)\n",
    "    for char in target_text.split():\n",
    "        if char not in target_characters:\n",
    "            target_characters.add(char)\n",
    "\n",
    "input_characters = sorted(list(input_characters))\n",
    "input_characters.remove(\"<unk>\")\n",
    "input_characters.insert(0,\"<unk>\")\n",
    "target_characters = sorted(list(target_characters))\n",
    "num_encoder_tokens = len(input_characters)\n",
    "num_decoder_tokens = len(target_characters)\n",
    "max_encoder_seq_length = max([len(txt.split()) for txt in input_texts])\n",
    "max_decoder_seq_length = max([len(txt.split()) for txt in target_texts])\n",
    "\n",
    "print('Number of samples:', len(input_texts))\n",
    "print('Number of unique input tokens:', num_encoder_tokens)\n",
    "print('Number of unique output tokens:', num_decoder_tokens)\n",
    "print('Max sequence length for inputs:', max_encoder_seq_length)\n",
    "print('Max sequence length for outputs:', max_decoder_seq_length)\n",
    "\n",
    "input_token_index = dict(\n",
    "    [(char, i) for i, char in enumerate(input_characters)])\n",
    "target_token_index = dict(\n",
    "    [(char, i) for i, char in enumerate(target_characters)])\n",
    "\n",
    "dicts = (input_token_index,target_token_index,max_encoder_seq_length,num_encoder_tokens)\n",
    "\n",
    "import pickle\n",
    "with open(\"dicts.tuple\",\"wb\") as fp:\n",
    "    pickle.dump(dicts,fp)\n",
    "\n",
    "reverse_input_char_index = dict(\n",
    "    (i, char) for char, i in input_token_index.items())\n",
    "reverse_target_char_index = dict(\n",
    "    (i, char) for char, i in target_token_index.items())\n",
    "\n",
    "\n",
    "encoder_input_data = np.zeros(\n",
    "    (len(input_texts), max_encoder_seq_length, num_encoder_tokens),\n",
    "    dtype='float32')\n",
    "decoder_input_data = np.zeros(\n",
    "    (len(input_texts), max_decoder_seq_length, num_decoder_tokens),\n",
    "    dtype='float32')\n",
    "decoder_target_data = np.zeros(\n",
    "    (len(input_texts), max_decoder_seq_length, num_decoder_tokens),\n",
    "    dtype='float32')\n",
    "\n",
    "for i, (input_text, target_text) in enumerate(zip(input_texts, target_texts)):\n",
    "    for t, char in enumerate(input_text.split()):\n",
    "        encoder_input_data[i, t, input_token_index[char]] = 1.\n",
    "    encoder_input_data[i, t + 1:, input_token_index['<end>']] = 1.\n",
    "    for t, char in enumerate(target_text.split()):\n",
    "        # decoder_target_data is ahead of decoder_input_data by one timestep\n",
    "        decoder_input_data[i, t, target_token_index[char]] = 1.\n",
    "        if t > 0:\n",
    "            # decoder_target_data will be ahead by one timestep\n",
    "            # and will not include the start character.\n",
    "            decoder_target_data[i, t - 1, target_token_index[char]] = 1.\n",
    "    decoder_input_data[i, t + 1:, target_token_index['<end>']] = 1.\n",
    "    decoder_target_data[i, t:, target_token_index['<end>']] = 1.\n",
    "def encode_input(input_text):  \n",
    "    encoder_input_data = np.zeros(\n",
    "        (1, max_encoder_seq_length, num_encoder_tokens),\n",
    "        dtype='float32')\n",
    "    for t, char in enumerate(input_text.split()):\n",
    "        if char in input_token_index.keys():\n",
    "            encoder_input_data[0, t, input_token_index[char]] = 1.\n",
    "        else:\n",
    "            encoder_input_data[0, t, input_token_index[\"<unk>\"]] = 1.\n",
    "    encoder_input_data[0, t + 1:, input_token_index['<end>']] = 1.\n",
    "    return encoder_input_data"
   ]
  },
  {
   "cell_type": "code",
   "execution_count": 4,
   "metadata": {},
   "outputs": [
    {
     "name": "stdout",
     "output_type": "stream",
     "text": [
      "(None, 8, 38)\n"
     ]
    }
   ],
   "source": [
    "# inputs = layers.Input(shape=(max_encoder_seq_length,num_encoder_tokens))\n",
    "# x = layers.Bidirectional(layers.LSTM(128,return_sequences=True))(inputs)\n",
    "# x = layers.Flatten()(x)\n",
    "# x = layers.RepeatVector(max_decoder_seq_length)(x)\n",
    "# x = layers.Dense(128,activation='relu')(x)\n",
    "# x = layers.Bidirectional(layers.LSTM(128,return_sequences=True))(x)\n",
    "# x = layers.Dense(num_decoder_tokens,activation='softmax')(x)\n",
    "# print(x.shape)\n",
    "# model = Model(inputs,x)\n",
    "\n",
    "# inputs = layers.Input(shape=(max_encoder_seq_length,num_encoder_tokens))\n",
    "# xlstm = layers.Bidirectional(layers.LSTM(128,return_sequences=True))(inputs)\n",
    "# x = layers.Flatten()(xlstm)\n",
    "# x = layers.RepeatVector(max_decoder_seq_length)(x)\n",
    "# a = layers.Dense(256,activation='relu')(x)\n",
    "# b = layers.Dense(256,activation='softmax')(x)\n",
    "# x = layers.Multiply()([a,b])\n",
    "# x = layers.Bidirectional(layers.LSTM(128,return_sequences=True))(x)\n",
    "# x = layers.Dense(num_decoder_tokens,activation='softmax')(x)\n",
    "# print(x.shape)\n",
    "# model = Model(inputs,x)\n",
    "# model.summary()\n",
    "\n",
    "inputs = layers.Input(shape=(max_encoder_seq_length,num_encoder_tokens))\n",
    "x = layers.LSTM(128,return_sequences=True)(inputs)\n",
    "x = layers.Flatten()(x)\n",
    "x = layers.RepeatVector(max_decoder_seq_length)(x)\n",
    "x = layers.Dense(128,activation='sigmoid')(x)\n",
    "x = layers.LSTM(128,return_sequences=True)(x)\n",
    "x = layers.Dense(num_decoder_tokens,activation='softmax')(x)\n",
    "print(x.shape)\n",
    "model = Model(inputs,x)\n",
    "\n",
    "# inputs = layers.Input(shape=(max_encoder_seq_length,num_encoder_tokens))\n",
    "# x,h,c = layers.LSTM(128,return_sequences=True,return_state=True)(inputs)\n",
    "# x = layers.Flatten()(x)\n",
    "# x = layers.RepeatVector(max_decoder_seq_length)(x)\n",
    "# x = layers.Dense(128,activation='relu')(x)\n",
    "# x = layers.LSTM(128,return_sequences=True)(x,initial_state=[h,c])\n",
    "# x = layers.Dense(num_decoder_tokens,activation='softmax')(x)\n",
    "# print(x.shape)\n",
    "# model = Model(inputs,x)\n",
    "# model.summary()\n",
    "\n"
   ]
  },
  {
   "cell_type": "code",
   "execution_count": 5,
   "metadata": {},
   "outputs": [],
   "source": [
    "model.compile(optimizer='adam',loss=losses.categorical_crossentropy,metrics=['accuracy'])"
   ]
  },
  {
   "cell_type": "code",
   "execution_count": 6,
   "metadata": {
    "scrolled": true
   },
   "outputs": [
    {
     "name": "stdout",
     "output_type": "stream",
     "text": [
      "Train on 17925 samples\n",
      "Epoch 1/25\n",
      "17925/17925 [==============================] - 8s 431us/sample - loss: 1.2736 - accuracy: 0.6565\n",
      "Epoch 2/25\n",
      "17925/17925 [==============================] - 5s 253us/sample - loss: 0.4281 - accuracy: 0.8572\n",
      "Epoch 3/25\n",
      "17925/17925 [==============================] - 5s 254us/sample - loss: 0.2168 - accuracy: 0.9359\n",
      "Epoch 4/25\n",
      "17925/17925 [==============================] - 5s 251us/sample - loss: 0.1195 - accuracy: 0.9741\n",
      "Epoch 5/25\n",
      "17925/17925 [==============================] - 5s 251us/sample - loss: 0.0423 - accuracy: 0.9946\n",
      "Epoch 6/25\n",
      "17925/17925 [==============================] - 5s 252us/sample - loss: 0.0230 - accuracy: 0.9979\n",
      "Epoch 7/25\n",
      "17925/17925 [==============================] - 5s 254us/sample - loss: 0.0131 - accuracy: 0.9999\n",
      "Epoch 8/25\n",
      "17925/17925 [==============================] - 5s 252us/sample - loss: 0.0083 - accuracy: 1.0000\n",
      "Epoch 9/25\n",
      "17925/17925 [==============================] - 5s 254us/sample - loss: 0.0055 - accuracy: 1.0000\n",
      "Epoch 10/25\n",
      "17925/17925 [==============================] - 4s 251us/sample - loss: 0.0040 - accuracy: 1.0000\n",
      "Epoch 11/25\n",
      "17925/17925 [==============================] - 5s 255us/sample - loss: 0.0031 - accuracy: 1.0000\n",
      "Epoch 12/25\n",
      "17925/17925 [==============================] - 5s 263us/sample - loss: 0.0024 - accuracy: 1.0000\n",
      "Epoch 13/25\n",
      "17925/17925 [==============================] - 4s 243us/sample - loss: 0.0019 - accuracy: 1.0000\n",
      "Epoch 14/25\n",
      "17925/17925 [==============================] - 4s 232us/sample - loss: 0.0016 - accuracy: 1.0000\n",
      "Epoch 15/25\n",
      "17925/17925 [==============================] - 4s 232us/sample - loss: 0.0013 - accuracy: 1.0000\n",
      "Epoch 16/25\n",
      "17925/17925 [==============================] - 4s 232us/sample - loss: 0.0011 - accuracy: 1.0000\n",
      "Epoch 17/25\n",
      "17925/17925 [==============================] - 4s 232us/sample - loss: 9.3905e-04 - accuracy: 1.0000\n",
      "Epoch 18/25\n",
      "17925/17925 [==============================] - 4s 237us/sample - loss: 8.0381e-04 - accuracy: 1.0000\n",
      "Epoch 19/25\n",
      "17925/17925 [==============================] - 4s 238us/sample - loss: 6.9235e-04 - accuracy: 1.0000\n",
      "Epoch 20/25\n",
      "17925/17925 [==============================] - 4s 237us/sample - loss: 5.9995e-04 - accuracy: 1.0000\n",
      "Epoch 21/25\n",
      "17925/17925 [==============================] - 4s 231us/sample - loss: 5.2274e-04 - accuracy: 1.0000\n",
      "Epoch 22/25\n",
      "17925/17925 [==============================] - 4s 229us/sample - loss: 4.5749e-04 - accuracy: 1.0000\n",
      "Epoch 23/25\n",
      "17925/17925 [==============================] - 4s 233us/sample - loss: 4.0179e-04 - accuracy: 1.0000\n",
      "Epoch 24/25\n",
      "17925/17925 [==============================] - 4s 231us/sample - loss: 3.5405e-04 - accuracy: 1.0000\n",
      "Epoch 25/25\n",
      "17925/17925 [==============================] - 4s 231us/sample - loss: 3.1275e-04 - accuracy: 1.0000\n"
     ]
    },
    {
     "data": {
      "text/plain": [
       "<tensorflow.python.keras.callbacks.History at 0x7f8fb806f0a0>"
      ]
     },
     "execution_count": 6,
     "metadata": {},
     "output_type": "execute_result"
    }
   ],
   "source": [
    "model.fit(encoder_input_data,decoder_input_data,epochs=25,batch_size=100)"
   ]
  },
  {
   "cell_type": "code",
   "execution_count": 7,
   "metadata": {},
   "outputs": [],
   "source": [
    "model.save(\"model.h5\")"
   ]
  },
  {
   "cell_type": "code",
   "execution_count": 8,
   "metadata": {},
   "outputs": [],
   "source": [
    "# import random\n",
    "\n",
    "# for _ in range(0,20):\n",
    "#     i = random.randint(0,len(dataset))\n",
    "#     print('Text: ',input_texts[i])\n",
    "#     prediction = model.predict(encoder_input_data[i:i+1])\n",
    "\n",
    "\n",
    "#     ans = \"\"\n",
    "#     for p in prediction[0]:\n",
    "#         out = reverse_target_char_index[np.argmax(p)]\n",
    "#         if out != \"<end>\" and out != \"<start>\":\n",
    "#             ans += str(out)+\" \"\n",
    "#     print(\"output: \",ans)"
   ]
  },
  {
   "cell_type": "code",
   "execution_count": null,
   "metadata": {},
   "outputs": [],
   "source": []
  },
  {
   "cell_type": "code",
   "execution_count": 9,
   "metadata": {},
   "outputs": [],
   "source": [
    "# while True:\n",
    "#     s = input(\"> \")\n",
    "#     e = encode_input(s)\n",
    "#     prediction = model.predict(e)\n",
    "#     ans = \"\"\n",
    "#     for p in prediction[0]:\n",
    "#         out = reverse_target_char_index[np.argmax(p)]\n",
    "#         if out != \"<end>\" and out != \"<start>\":\n",
    "#             if out.isnumeric():\n",
    "#                 ans += s.split()[int(out,base=10)-1]+\" \"\n",
    "#             else:\n",
    "#                 ans += str(out)+\" \"\n",
    "# #             ans += str(out)+\" \"\n",
    "#     print(\"output: \",ans)"
   ]
  },
  {
   "cell_type": "code",
   "execution_count": 10,
   "metadata": {},
   "outputs": [
    {
     "name": "stdout",
     "output_type": "stream",
     "text": [
      "add a and b sub \n",
      "output:  sub a sub  \n",
      "\n",
      "sub sub a and b \n",
      "output:  sub a b  \n",
      "\n",
      "mul mul a and b \n",
      "output:  mul a b  \n",
      "\n",
      "div div div a and b \n",
      "output:  div and and 8  \n",
      "\n"
     ]
    }
   ],
   "source": [
    "def predict(s):\n",
    "    e = encode_input(s)\n",
    "    prediction = model.predict(e)\n",
    "    ans = \"\"\n",
    "    for p in prediction[0]:\n",
    "        out = reverse_target_char_index[np.argmax(p)]\n",
    "        if out != \"<end>\" and out != \"<start>\":\n",
    "            if out.isnumeric() and (int(out,base=10)-1) < len(s.split()):\n",
    "                ans += s.split()[int(out,base=10)-1]+\" \"\n",
    "            else:\n",
    "                ans += str(out)+\" \"\n",
    "#             ans += str(out)+\" \"\n",
    "    print(s,\"\\noutput: \",ans,\"\\n\")\n",
    "\n",
    "predict(\"add a and b sub\")\n",
    "predict(\"sub sub a and b\")\n",
    "predict(\"mul mul a and b\")\n",
    "predict(\"div div div a and b\")"
   ]
  },
  {
   "cell_type": "code",
   "execution_count": null,
   "metadata": {},
   "outputs": [],
   "source": []
  }
 ],
 "metadata": {
  "kernelspec": {
   "display_name": "Python 3",
   "language": "python",
   "name": "python3"
  },
  "language_info": {
   "codemirror_mode": {
    "name": "ipython",
    "version": 3
   },
   "file_extension": ".py",
   "mimetype": "text/x-python",
   "name": "python",
   "nbconvert_exporter": "python",
   "pygments_lexer": "ipython3",
   "version": "3.8.1"
  }
 },
 "nbformat": 4,
 "nbformat_minor": 2
}
