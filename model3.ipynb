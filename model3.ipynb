{
 "cells": [
  {
   "cell_type": "code",
   "execution_count": 1,
   "metadata": {},
   "outputs": [],
   "source": [
    "import tensorflow as tf\n",
    "from tensorflow import keras\n",
    "from tensorflow.keras import Model,layers,losses\n",
    "import numpy as np"
   ]
  },
  {
   "cell_type": "code",
   "execution_count": 2,
   "metadata": {},
   "outputs": [],
   "source": [
    "from datagen import *\n",
    "dataset = get_dataset()"
   ]
  },
  {
   "cell_type": "code",
   "execution_count": 3,
   "metadata": {},
   "outputs": [
    {
     "name": "stdout",
     "output_type": "stream",
     "text": [
      "Number of samples: 9648\n",
      "Number of unique input tokens: 50\n",
      "Number of unique output tokens: 36\n",
      "Max sequence length for inputs: 14\n",
      "Max sequence length for outputs: 8\n"
     ]
    }
   ],
   "source": [
    "input_texts = []\n",
    "target_texts = []\n",
    "input_characters = set([\"<end>\",\"<unk>\"])\n",
    "target_characters = set([\"<start>\",\"<end>\",\"1\",\"2\",\"3\",\"4\",\"5\",\"6\",\"7\",\"8\",\"9\",\"10\"])\n",
    "for line in dataset:\n",
    "    input_text, target_text = line.split('\\t')\n",
    "    # We use \"tab\" as the \"start sequence\" character\n",
    "    # for the targets, and \"\\n\" as \"end sequence\" character.\n",
    "    target_text = '<start> ' + target_text + ' <end>'\n",
    "    input_texts.append(input_text)\n",
    "    target_texts.append(target_text)\n",
    "    for char in input_text.split():\n",
    "        if char not in input_characters:\n",
    "            input_characters.add(char)\n",
    "    for char in target_text.split():\n",
    "        if char not in target_characters:\n",
    "            target_characters.add(char)\n",
    "\n",
    "input_characters = sorted(list(input_characters))\n",
    "input_characters.remove(\"<unk>\")\n",
    "input_characters.insert(0,\"<unk>\")\n",
    "target_characters = sorted(list(target_characters))\n",
    "num_encoder_tokens = len(input_characters)\n",
    "num_decoder_tokens = len(target_characters)\n",
    "max_encoder_seq_length = max([len(txt.split()) for txt in input_texts])\n",
    "max_decoder_seq_length = max([len(txt.split()) for txt in target_texts])\n",
    "\n",
    "print('Number of samples:', len(input_texts))\n",
    "print('Number of unique input tokens:', num_encoder_tokens)\n",
    "print('Number of unique output tokens:', num_decoder_tokens)\n",
    "print('Max sequence length for inputs:', max_encoder_seq_length)\n",
    "print('Max sequence length for outputs:', max_decoder_seq_length)\n",
    "\n",
    "input_token_index = dict(\n",
    "    [(char, i) for i, char in enumerate(input_characters)])\n",
    "target_token_index = dict(\n",
    "    [(char, i) for i, char in enumerate(target_characters)])\n",
    "\n",
    "dicts = (input_token_index,target_token_index,max_encoder_seq_length,num_encoder_tokens)\n",
    "\n",
    "import pickle\n",
    "with open(\"dicts.tuple\",\"wb\") as fp:\n",
    "    pickle.dump(dicts,fp)\n",
    "\n",
    "reverse_input_char_index = dict(\n",
    "    (i, char) for char, i in input_token_index.items())\n",
    "reverse_target_char_index = dict(\n",
    "    (i, char) for char, i in target_token_index.items())\n",
    "\n",
    "\n",
    "encoder_input_data = np.zeros(\n",
    "    (len(input_texts), max_encoder_seq_length, num_encoder_tokens),\n",
    "    dtype='float32')\n",
    "decoder_input_data = np.zeros(\n",
    "    (len(input_texts), max_decoder_seq_length, num_decoder_tokens),\n",
    "    dtype='float32')\n",
    "decoder_target_data = np.zeros(\n",
    "    (len(input_texts), max_decoder_seq_length, num_decoder_tokens),\n",
    "    dtype='float32')\n",
    "\n",
    "for i, (input_text, target_text) in enumerate(zip(input_texts, target_texts)):\n",
    "    for t, char in enumerate(input_text.split()):\n",
    "        encoder_input_data[i, t, input_token_index[char]] = 1.\n",
    "    encoder_input_data[i, t + 1:, input_token_index['<end>']] = 1.\n",
    "    for t, char in enumerate(target_text.split()):\n",
    "        # decoder_target_data is ahead of decoder_input_data by one timestep\n",
    "        decoder_input_data[i, t, target_token_index[char]] = 1.\n",
    "        if t > 0:\n",
    "            # decoder_target_data will be ahead by one timestep\n",
    "            # and will not include the start character.\n",
    "            decoder_target_data[i, t - 1, target_token_index[char]] = 1.\n",
    "    decoder_input_data[i, t + 1:, target_token_index['<end>']] = 1.\n",
    "    decoder_target_data[i, t:, target_token_index['<end>']] = 1.\n",
    "def encode_input(input_text):  \n",
    "    encoder_input_data = np.zeros(\n",
    "        (1, max_encoder_seq_length, num_encoder_tokens),\n",
    "        dtype='float32')\n",
    "    for t, char in enumerate(input_text.split()):\n",
    "        if char in input_token_index.keys():\n",
    "            encoder_input_data[0, t, input_token_index[char]] = 1.\n",
    "        else:\n",
    "            encoder_input_data[0, t, input_token_index[\"<unk>\"]] = 1.\n",
    "    encoder_input_data[0, t + 1:, input_token_index['<end>']] = 1.\n",
    "    return encoder_input_data"
   ]
  },
  {
   "cell_type": "code",
   "execution_count": 4,
   "metadata": {},
   "outputs": [
    {
     "name": "stdout",
     "output_type": "stream",
     "text": [
      "(None, 8, 36)\n"
     ]
    }
   ],
   "source": [
    "inputs = layers.Input(shape=(max_encoder_seq_length,num_encoder_tokens))\n",
    "x = layers.Bidirectional(layers.LSTM(128,return_sequences=True))(inputs)\n",
    "x = layers.Flatten()(x)\n",
    "x = layers.RepeatVector(max_decoder_seq_length)(x)\n",
    "x = layers.Dense(128,activation='relu')(x)\n",
    "x = layers.Bidirectional(layers.LSTM(128,return_sequences=True))(x)\n",
    "x = layers.Dense(num_decoder_tokens,activation='softmax')(x)\n",
    "print(x.shape)\n",
    "model = Model(inputs,x)\n",
    "\n",
    "# inputs = layers.Input(shape=(max_encoder_seq_length,num_encoder_tokens))\n",
    "# xlstm = layers.Bidirectional(layers.LSTM(128,return_sequences=True))(inputs)\n",
    "# x = layers.Flatten()(xlstm)\n",
    "# x = layers.RepeatVector(max_decoder_seq_length)(x)\n",
    "# a = layers.Dense(128,activation='relu')(x)\n",
    "# b = layers.Dense(128,activation='softmax')(x)\n",
    "# x = layers.Multiply()([a,b])\n",
    "# x = layers.Bidirectional(layers.LSTM(128,return_sequences=True))(x)\n",
    "# x = layers.Dense(num_decoder_tokens,activation='softmax')(x)\n",
    "# print(x.shape)\n",
    "# model = Model(inputs,x)"
   ]
  },
  {
   "cell_type": "code",
   "execution_count": 5,
   "metadata": {},
   "outputs": [],
   "source": [
    "model.compile(optimizer='adam',loss=losses.categorical_crossentropy,metrics=['accuracy'])"
   ]
  },
  {
   "cell_type": "code",
   "execution_count": 6,
   "metadata": {
    "scrolled": true
   },
   "outputs": [
    {
     "name": "stdout",
     "output_type": "stream",
     "text": [
      "Train on 9648 samples\n",
      "Epoch 1/20\n",
      "9648/9648 [==============================] - 9s 952us/sample - loss: 1.4380 - accuracy: 0.6269\n",
      "Epoch 2/20\n",
      "9648/9648 [==============================] - 4s 411us/sample - loss: 0.5080 - accuracy: 0.8685\n",
      "Epoch 3/20\n",
      "9648/9648 [==============================] - 4s 412us/sample - loss: 0.1276 - accuracy: 0.9897\n",
      "Epoch 4/20\n",
      "9648/9648 [==============================] - 4s 408us/sample - loss: 0.0477 - accuracy: 0.9984\n",
      "Epoch 5/20\n",
      "9648/9648 [==============================] - 4s 412us/sample - loss: 0.0243 - accuracy: 0.9998\n",
      "Epoch 6/20\n",
      "9648/9648 [==============================] - 4s 409us/sample - loss: 0.0142 - accuracy: 1.0000\n",
      "Epoch 7/20\n",
      "9648/9648 [==============================] - 4s 412us/sample - loss: 0.0096 - accuracy: 1.0000\n",
      "Epoch 8/20\n",
      "9648/9648 [==============================] - 4s 425us/sample - loss: 0.0069 - accuracy: 1.0000\n",
      "Epoch 9/20\n",
      "9648/9648 [==============================] - 4s 409us/sample - loss: 0.0053 - accuracy: 1.0000\n",
      "Epoch 10/20\n",
      "9648/9648 [==============================] - 4s 410us/sample - loss: 0.0041 - accuracy: 1.0000\n",
      "Epoch 11/20\n",
      "9648/9648 [==============================] - 4s 407us/sample - loss: 0.0033 - accuracy: 1.0000\n",
      "Epoch 12/20\n",
      "9648/9648 [==============================] - 4s 409us/sample - loss: 0.0027 - accuracy: 1.0000\n",
      "Epoch 13/20\n",
      "9648/9648 [==============================] - 4s 408us/sample - loss: 0.0023 - accuracy: 1.0000\n",
      "Epoch 14/20\n",
      "9648/9648 [==============================] - 4s 409us/sample - loss: 0.0019 - accuracy: 1.0000\n",
      "Epoch 15/20\n",
      "9648/9648 [==============================] - 4s 409us/sample - loss: 0.0016 - accuracy: 1.0000\n",
      "Epoch 16/20\n",
      "9648/9648 [==============================] - 4s 408us/sample - loss: 0.0014 - accuracy: 1.0000\n",
      "Epoch 17/20\n",
      "9648/9648 [==============================] - 4s 410us/sample - loss: 0.0012 - accuracy: 1.0000\n",
      "Epoch 18/20\n",
      "9648/9648 [==============================] - 4s 411us/sample - loss: 0.0011 - accuracy: 1.0000\n",
      "Epoch 19/20\n",
      "9648/9648 [==============================] - 4s 407us/sample - loss: 9.6336e-04 - accuracy: 1.0000\n",
      "Epoch 20/20\n",
      "9648/9648 [==============================] - 4s 412us/sample - loss: 8.5817e-04 - accuracy: 1.0000\n"
     ]
    },
    {
     "data": {
      "text/plain": [
       "<tensorflow.python.keras.callbacks.History at 0x7ff048023af0>"
      ]
     },
     "execution_count": 6,
     "metadata": {},
     "output_type": "execute_result"
    }
   ],
   "source": [
    "model.fit(encoder_input_data,decoder_input_data,epochs=20,batch_size=100)"
   ]
  },
  {
   "cell_type": "code",
   "execution_count": 7,
   "metadata": {},
   "outputs": [],
   "source": [
    "model.save(\"model.h5\")"
   ]
  },
  {
   "cell_type": "code",
   "execution_count": 8,
   "metadata": {},
   "outputs": [
    {
     "name": "stdout",
     "output_type": "stream",
     "text": [
      "Text:  <unk> <unk> assign <unk> <unk> <unk> with number two \n",
      "output:  assign 6 <exp>2 \n",
      "Text:  <unk> endif <unk> <unk> <unk> \n",
      "output:  endif \n",
      "Text:  <unk> <unk> set <unk> to multiply <unk> to <unk> <unk> <unk> <unk> \n",
      "output:  mul 7 9 equ 4 \n",
      "Text:  <unk> <unk> set <unk> to div <unk> by <unk> <unk> <unk> <unk> \n",
      "output:  div 7 9 equ 4 \n",
      "Text:  <unk> <unk> set <unk> to subtraction of <unk> and <unk> \n",
      "output:  sub 8 10 equ 4 \n",
      "Text:  subtraction of <unk> by <unk> \n",
      "output:  sub 3 5 \n",
      "Text:  initialize <unk> with value seven \n",
      "output:  assign 2 <exp>7 \n",
      "Text:  <unk> <unk> <unk> multiply <unk> <unk> <unk> <unk> to <unk> \n",
      "output:  mul 8 10 \n",
      "Text:  assign <unk> <unk> <unk> <unk> with value one <unk> <unk> \n",
      "output:  assign 5 <exp>1 \n",
      "Text:  division of <unk> <unk> <unk> to <unk> <unk> <unk> \n",
      "output:  div 5 7 \n",
      "Text:  divide <unk> and <unk> <unk> <unk> \n",
      "output:  div 2 4 \n",
      "Text:  if <unk> less than <unk> <unk> <unk> <unk> \n",
      "output:  if less 2 5 do \n",
      "Text:  <unk> <unk> let <unk> <unk> <unk> <unk> be two \n",
      "output:  assign 7 <exp>2 \n",
      "Text:  <unk> <unk> let <unk> be six \n",
      "output:  assign 4 <exp>6 \n",
      "Text:  division of <unk> <unk> to <unk> \n",
      "output:  div 4 6 \n",
      "Text:  <unk> <unk> <unk> sub <unk> <unk> and <unk> <unk> <unk> <unk> \n",
      "output:  sub 6 8 \n",
      "Text:  set <unk> to nine <unk> \n",
      "output:  assign 2 <exp>9 \n",
      "Text:  divide <unk> by <unk> <unk> <unk> <unk> \n",
      "output:  div 2 4 \n",
      "Text:  initialize <unk> with value five <unk> \n",
      "output:  assign 2 <exp>5 \n",
      "Text:  <unk> <unk> <unk> multiplication of <unk> by <unk> \n",
      "output:  mul 6 8 \n"
     ]
    }
   ],
   "source": [
    "import random\n",
    "\n",
    "for _ in range(0,20):\n",
    "    i = random.randint(0,len(dataset))\n",
    "    print('Text: ',input_texts[i])\n",
    "    prediction = model.predict(encoder_input_data[i:i+1])\n",
    "\n",
    "\n",
    "    ans = \"\"\n",
    "    for p in prediction[0]:\n",
    "        out = reverse_target_char_index[np.argmax(p)]\n",
    "        if out != \"<end>\" and out != \"<start>\":\n",
    "            ans += str(out)+\" \"\n",
    "    print(\"output: \",ans)"
   ]
  },
  {
   "cell_type": "code",
   "execution_count": null,
   "metadata": {},
   "outputs": [],
   "source": []
  },
  {
   "cell_type": "code",
   "execution_count": null,
   "metadata": {},
   "outputs": [
    {
     "name": "stdout",
     "output_type": "stream",
     "text": [
      "> add add a and b\n",
      "output:  add add a b \n",
      "> add a and b add\n",
      "output:  add add b b \n",
      "> else if a greater than b\n",
      "output:  else if greater a b do \n",
      "> else\n",
      "output:  else \n"
     ]
    }
   ],
   "source": [
    "while True:\n",
    "    s = input(\"> \")\n",
    "    e = encode_input(s)\n",
    "    prediction = model.predict(e)\n",
    "    ans = \"\"\n",
    "    for p in prediction[0]:\n",
    "        out = reverse_target_char_index[np.argmax(p)]\n",
    "        if out != \"<end>\" and out != \"<start>\":\n",
    "            if out.isnumeric():\n",
    "                ans += s.split()[int(out,base=10)-1]+\" \"\n",
    "            else:\n",
    "                ans += str(out)+\" \"\n",
    "    print(\"output: \",ans)"
   ]
  },
  {
   "cell_type": "code",
   "execution_count": null,
   "metadata": {},
   "outputs": [],
   "source": []
  }
 ],
 "metadata": {
  "kernelspec": {
   "display_name": "Python 3",
   "language": "python",
   "name": "python3"
  },
  "language_info": {
   "codemirror_mode": {
    "name": "ipython",
    "version": 3
   },
   "file_extension": ".py",
   "mimetype": "text/x-python",
   "name": "python",
   "nbconvert_exporter": "python",
   "pygments_lexer": "ipython3",
   "version": "3.8.1"
  }
 },
 "nbformat": 4,
 "nbformat_minor": 2
}
